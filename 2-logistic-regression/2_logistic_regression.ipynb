{
  "nbformat": 4,
  "nbformat_minor": 0,
  "metadata": {
    "colab": {
      "provenance": [],
      "authorship_tag": "ABX9TyPkcEi0mSBGRWWM8gAwV4pv",
      "include_colab_link": true
    },
    "kernelspec": {
      "name": "python3",
      "display_name": "Python 3"
    },
    "language_info": {
      "name": "python"
    }
  },
  "cells": [
    {
      "cell_type": "markdown",
      "metadata": {
        "id": "view-in-github",
        "colab_type": "text"
      },
      "source": [
        "<a href=\"https://colab.research.google.com/github/ochiqai/machine-learning/blob/main/2-logistic-regression/2_logistic_regression.ipynb\" target=\"_parent\"><img src=\"https://colab.research.google.com/assets/colab-badge.svg\" alt=\"Open In Colab\"/></a>"
      ]
    },
    {
      "cell_type": "markdown",
      "source": [
        "# Berigan son 2 ga bo'linadimi yoki yo'q\n",
        "\n",
        "Data to'playmiz"
      ],
      "metadata": {
        "id": "0jKNsSzPdmQ-"
      }
    },
    {
      "cell_type": "code",
      "execution_count": null,
      "metadata": {
        "id": "8iWMjBxzdjpK"
      },
      "outputs": [],
      "source": [
        "X = [1, 2, 3, 4, 5, 6, 7, 8, 9, 10]\n",
        "y = [0, 1, 0, 1, 0, 1, 0, 1, 0, 1]"
      ]
    },
    {
      "cell_type": "code",
      "source": [
        "import numpy as np\n",
        "\n",
        "X_np = np.array(X).reshape(10, 1)\n",
        "print(X_np.shape)\n",
        "print(len(y))"
      ],
      "metadata": {
        "colab": {
          "base_uri": "https://localhost:8080/"
        },
        "id": "Vuh5Qq50dlIb",
        "outputId": "3e1664f4-346a-4a48-ef2c-31f284b504c3"
      },
      "execution_count": null,
      "outputs": [
        {
          "output_type": "stream",
          "name": "stdout",
          "text": [
            "(10, 1)\n",
            "10\n"
          ]
        }
      ]
    },
    {
      "cell_type": "code",
      "source": [
        "from sklearn.linear_model import LogisticRegression\n",
        "\n",
        "model = LogisticRegression()\n",
        "model.fit(X_np, y)"
      ],
      "metadata": {
        "colab": {
          "base_uri": "https://localhost:8080/",
          "height": 75
        },
        "id": "_vRsoat8eYco",
        "outputId": "edcc8f86-e6fa-43c4-f330-a8687c2a149a"
      },
      "execution_count": null,
      "outputs": [
        {
          "output_type": "execute_result",
          "data": {
            "text/plain": [
              "LogisticRegression()"
            ],
            "text/html": [
              "<style>#sk-container-id-10 {color: black;background-color: white;}#sk-container-id-10 pre{padding: 0;}#sk-container-id-10 div.sk-toggleable {background-color: white;}#sk-container-id-10 label.sk-toggleable__label {cursor: pointer;display: block;width: 100%;margin-bottom: 0;padding: 0.3em;box-sizing: border-box;text-align: center;}#sk-container-id-10 label.sk-toggleable__label-arrow:before {content: \"▸\";float: left;margin-right: 0.25em;color: #696969;}#sk-container-id-10 label.sk-toggleable__label-arrow:hover:before {color: black;}#sk-container-id-10 div.sk-estimator:hover label.sk-toggleable__label-arrow:before {color: black;}#sk-container-id-10 div.sk-toggleable__content {max-height: 0;max-width: 0;overflow: hidden;text-align: left;background-color: #f0f8ff;}#sk-container-id-10 div.sk-toggleable__content pre {margin: 0.2em;color: black;border-radius: 0.25em;background-color: #f0f8ff;}#sk-container-id-10 input.sk-toggleable__control:checked~div.sk-toggleable__content {max-height: 200px;max-width: 100%;overflow: auto;}#sk-container-id-10 input.sk-toggleable__control:checked~label.sk-toggleable__label-arrow:before {content: \"▾\";}#sk-container-id-10 div.sk-estimator input.sk-toggleable__control:checked~label.sk-toggleable__label {background-color: #d4ebff;}#sk-container-id-10 div.sk-label input.sk-toggleable__control:checked~label.sk-toggleable__label {background-color: #d4ebff;}#sk-container-id-10 input.sk-hidden--visually {border: 0;clip: rect(1px 1px 1px 1px);clip: rect(1px, 1px, 1px, 1px);height: 1px;margin: -1px;overflow: hidden;padding: 0;position: absolute;width: 1px;}#sk-container-id-10 div.sk-estimator {font-family: monospace;background-color: #f0f8ff;border: 1px dotted black;border-radius: 0.25em;box-sizing: border-box;margin-bottom: 0.5em;}#sk-container-id-10 div.sk-estimator:hover {background-color: #d4ebff;}#sk-container-id-10 div.sk-parallel-item::after {content: \"\";width: 100%;border-bottom: 1px solid gray;flex-grow: 1;}#sk-container-id-10 div.sk-label:hover label.sk-toggleable__label {background-color: #d4ebff;}#sk-container-id-10 div.sk-serial::before {content: \"\";position: absolute;border-left: 1px solid gray;box-sizing: border-box;top: 0;bottom: 0;left: 50%;z-index: 0;}#sk-container-id-10 div.sk-serial {display: flex;flex-direction: column;align-items: center;background-color: white;padding-right: 0.2em;padding-left: 0.2em;position: relative;}#sk-container-id-10 div.sk-item {position: relative;z-index: 1;}#sk-container-id-10 div.sk-parallel {display: flex;align-items: stretch;justify-content: center;background-color: white;position: relative;}#sk-container-id-10 div.sk-item::before, #sk-container-id-10 div.sk-parallel-item::before {content: \"\";position: absolute;border-left: 1px solid gray;box-sizing: border-box;top: 0;bottom: 0;left: 50%;z-index: -1;}#sk-container-id-10 div.sk-parallel-item {display: flex;flex-direction: column;z-index: 1;position: relative;background-color: white;}#sk-container-id-10 div.sk-parallel-item:first-child::after {align-self: flex-end;width: 50%;}#sk-container-id-10 div.sk-parallel-item:last-child::after {align-self: flex-start;width: 50%;}#sk-container-id-10 div.sk-parallel-item:only-child::after {width: 0;}#sk-container-id-10 div.sk-dashed-wrapped {border: 1px dashed gray;margin: 0 0.4em 0.5em 0.4em;box-sizing: border-box;padding-bottom: 0.4em;background-color: white;}#sk-container-id-10 div.sk-label label {font-family: monospace;font-weight: bold;display: inline-block;line-height: 1.2em;}#sk-container-id-10 div.sk-label-container {text-align: center;}#sk-container-id-10 div.sk-container {/* jupyter's `normalize.less` sets `[hidden] { display: none; }` but bootstrap.min.css set `[hidden] { display: none !important; }` so we also need the `!important` here to be able to override the default hidden behavior on the sphinx rendered scikit-learn.org. See: https://github.com/scikit-learn/scikit-learn/issues/21755 */display: inline-block !important;position: relative;}#sk-container-id-10 div.sk-text-repr-fallback {display: none;}</style><div id=\"sk-container-id-10\" class=\"sk-top-container\"><div class=\"sk-text-repr-fallback\"><pre>LogisticRegression()</pre><b>In a Jupyter environment, please rerun this cell to show the HTML representation or trust the notebook. <br />On GitHub, the HTML representation is unable to render, please try loading this page with nbviewer.org.</b></div><div class=\"sk-container\" hidden><div class=\"sk-item\"><div class=\"sk-estimator sk-toggleable\"><input class=\"sk-toggleable__control sk-hidden--visually\" id=\"sk-estimator-id-10\" type=\"checkbox\" checked><label for=\"sk-estimator-id-10\" class=\"sk-toggleable__label sk-toggleable__label-arrow\">LogisticRegression</label><div class=\"sk-toggleable__content\"><pre>LogisticRegression()</pre></div></div></div></div></div>"
            ]
          },
          "metadata": {},
          "execution_count": 55
        }
      ]
    },
    {
      "cell_type": "code",
      "source": [
        "def data_process(d=None):\n",
        "  d = np.array([d]).reshape(1, 1)\n",
        "  natija = model.predict(d)[0]\n",
        "  if natija == 1:\n",
        "    return \" 2 ga bo'linadi \"\n",
        "  return \" 2 ga bo'linmaydi\"\n",
        "\n",
        "yangi_data = 100\n",
        "natija = data_process(yangi_data)\n",
        "print(yangi_data, \" >> \", natija)\n",
        "\n",
        "yangi_data = 1.5\n",
        "natija = data_process(yangi_data)\n",
        "print(yangi_data, \" >> \", natija)\n",
        "\n",
        "yangi_data = 201\n",
        "natija = data_process(yangi_data)\n",
        "print(yangi_data, \" >> \", natija)"
      ],
      "metadata": {
        "colab": {
          "base_uri": "https://localhost:8080/"
        },
        "id": "oKBd66Qbe32H",
        "outputId": "b95922b9-cc12-4b84-9fbf-9fd2be1b8eb3"
      },
      "execution_count": null,
      "outputs": [
        {
          "output_type": "stream",
          "name": "stdout",
          "text": [
            "100  >>   2 ga bo'linmaydi\n",
            "1.5  >>   2 ga bo'linadi \n",
            "201  >>   2 ga bo'linmaydi\n"
          ]
        }
      ]
    },
    {
      "cell_type": "markdown",
      "source": [
        "## Datani ko'paytiramiz"
      ],
      "metadata": {
        "id": "TGHGkdYFgifw"
      }
    },
    {
      "cell_type": "code",
      "source": [
        "X = [[i] for i in range(1, 199)]\n",
        "y = [1 if i % 2 == 0 else 0 for i in range(1, 199)]"
      ],
      "metadata": {
        "id": "A81g6ed1ftws"
      },
      "execution_count": null,
      "outputs": []
    },
    {
      "cell_type": "code",
      "source": [
        "print(X[:5])\n",
        "print(y[:5])"
      ],
      "metadata": {
        "colab": {
          "base_uri": "https://localhost:8080/"
        },
        "id": "71jz6iKvg9Z9",
        "outputId": "a5fee0bc-9844-4411-8498-683a61d356f1"
      },
      "execution_count": null,
      "outputs": [
        {
          "output_type": "stream",
          "name": "stdout",
          "text": [
            "[[1], [2], [3], [4], [5]]\n",
            "[0, 1, 0, 1, 0]\n"
          ]
        }
      ]
    },
    {
      "cell_type": "code",
      "source": [
        "X_np = np.array(X).reshape(-1, 1)"
      ],
      "metadata": {
        "id": "fkkSS1I0hBeI"
      },
      "execution_count": null,
      "outputs": []
    },
    {
      "cell_type": "code",
      "source": [
        "print(X_np.shape)"
      ],
      "metadata": {
        "colab": {
          "base_uri": "https://localhost:8080/"
        },
        "id": "GE1Y3NOqhN4o",
        "outputId": "50084556-b554-4ffc-c6c2-6a679f51d74e"
      },
      "execution_count": null,
      "outputs": [
        {
          "output_type": "stream",
          "name": "stdout",
          "text": [
            "(198, 1)\n"
          ]
        }
      ]
    },
    {
      "cell_type": "code",
      "source": [
        "from sklearn.linear_model import LogisticRegression\n",
        "\n",
        "model = LogisticRegression()\n",
        "model.fit(X_np, y)"
      ],
      "metadata": {
        "colab": {
          "base_uri": "https://localhost:8080/",
          "height": 75
        },
        "id": "cEkO-eyKhQQ5",
        "outputId": "09dd8fc3-ece2-4e63-b0f0-2978b4bd42cf"
      },
      "execution_count": null,
      "outputs": [
        {
          "output_type": "execute_result",
          "data": {
            "text/plain": [
              "LogisticRegression()"
            ],
            "text/html": [
              "<style>#sk-container-id-8 {color: black;background-color: white;}#sk-container-id-8 pre{padding: 0;}#sk-container-id-8 div.sk-toggleable {background-color: white;}#sk-container-id-8 label.sk-toggleable__label {cursor: pointer;display: block;width: 100%;margin-bottom: 0;padding: 0.3em;box-sizing: border-box;text-align: center;}#sk-container-id-8 label.sk-toggleable__label-arrow:before {content: \"▸\";float: left;margin-right: 0.25em;color: #696969;}#sk-container-id-8 label.sk-toggleable__label-arrow:hover:before {color: black;}#sk-container-id-8 div.sk-estimator:hover label.sk-toggleable__label-arrow:before {color: black;}#sk-container-id-8 div.sk-toggleable__content {max-height: 0;max-width: 0;overflow: hidden;text-align: left;background-color: #f0f8ff;}#sk-container-id-8 div.sk-toggleable__content pre {margin: 0.2em;color: black;border-radius: 0.25em;background-color: #f0f8ff;}#sk-container-id-8 input.sk-toggleable__control:checked~div.sk-toggleable__content {max-height: 200px;max-width: 100%;overflow: auto;}#sk-container-id-8 input.sk-toggleable__control:checked~label.sk-toggleable__label-arrow:before {content: \"▾\";}#sk-container-id-8 div.sk-estimator input.sk-toggleable__control:checked~label.sk-toggleable__label {background-color: #d4ebff;}#sk-container-id-8 div.sk-label input.sk-toggleable__control:checked~label.sk-toggleable__label {background-color: #d4ebff;}#sk-container-id-8 input.sk-hidden--visually {border: 0;clip: rect(1px 1px 1px 1px);clip: rect(1px, 1px, 1px, 1px);height: 1px;margin: -1px;overflow: hidden;padding: 0;position: absolute;width: 1px;}#sk-container-id-8 div.sk-estimator {font-family: monospace;background-color: #f0f8ff;border: 1px dotted black;border-radius: 0.25em;box-sizing: border-box;margin-bottom: 0.5em;}#sk-container-id-8 div.sk-estimator:hover {background-color: #d4ebff;}#sk-container-id-8 div.sk-parallel-item::after {content: \"\";width: 100%;border-bottom: 1px solid gray;flex-grow: 1;}#sk-container-id-8 div.sk-label:hover label.sk-toggleable__label {background-color: #d4ebff;}#sk-container-id-8 div.sk-serial::before {content: \"\";position: absolute;border-left: 1px solid gray;box-sizing: border-box;top: 0;bottom: 0;left: 50%;z-index: 0;}#sk-container-id-8 div.sk-serial {display: flex;flex-direction: column;align-items: center;background-color: white;padding-right: 0.2em;padding-left: 0.2em;position: relative;}#sk-container-id-8 div.sk-item {position: relative;z-index: 1;}#sk-container-id-8 div.sk-parallel {display: flex;align-items: stretch;justify-content: center;background-color: white;position: relative;}#sk-container-id-8 div.sk-item::before, #sk-container-id-8 div.sk-parallel-item::before {content: \"\";position: absolute;border-left: 1px solid gray;box-sizing: border-box;top: 0;bottom: 0;left: 50%;z-index: -1;}#sk-container-id-8 div.sk-parallel-item {display: flex;flex-direction: column;z-index: 1;position: relative;background-color: white;}#sk-container-id-8 div.sk-parallel-item:first-child::after {align-self: flex-end;width: 50%;}#sk-container-id-8 div.sk-parallel-item:last-child::after {align-self: flex-start;width: 50%;}#sk-container-id-8 div.sk-parallel-item:only-child::after {width: 0;}#sk-container-id-8 div.sk-dashed-wrapped {border: 1px dashed gray;margin: 0 0.4em 0.5em 0.4em;box-sizing: border-box;padding-bottom: 0.4em;background-color: white;}#sk-container-id-8 div.sk-label label {font-family: monospace;font-weight: bold;display: inline-block;line-height: 1.2em;}#sk-container-id-8 div.sk-label-container {text-align: center;}#sk-container-id-8 div.sk-container {/* jupyter's `normalize.less` sets `[hidden] { display: none; }` but bootstrap.min.css set `[hidden] { display: none !important; }` so we also need the `!important` here to be able to override the default hidden behavior on the sphinx rendered scikit-learn.org. See: https://github.com/scikit-learn/scikit-learn/issues/21755 */display: inline-block !important;position: relative;}#sk-container-id-8 div.sk-text-repr-fallback {display: none;}</style><div id=\"sk-container-id-8\" class=\"sk-top-container\"><div class=\"sk-text-repr-fallback\"><pre>LogisticRegression()</pre><b>In a Jupyter environment, please rerun this cell to show the HTML representation or trust the notebook. <br />On GitHub, the HTML representation is unable to render, please try loading this page with nbviewer.org.</b></div><div class=\"sk-container\" hidden><div class=\"sk-item\"><div class=\"sk-estimator sk-toggleable\"><input class=\"sk-toggleable__control sk-hidden--visually\" id=\"sk-estimator-id-8\" type=\"checkbox\" checked><label for=\"sk-estimator-id-8\" class=\"sk-toggleable__label sk-toggleable__label-arrow\">LogisticRegression</label><div class=\"sk-toggleable__content\"><pre>LogisticRegression()</pre></div></div></div></div></div>"
            ]
          },
          "metadata": {},
          "execution_count": 41
        }
      ]
    },
    {
      "cell_type": "code",
      "source": [
        "yangi_data = 100\n",
        "natija = data_process(yangi_data)\n",
        "print(yangi_data, \" >> \", natija)\n",
        "\n",
        "yangi_data = 1.5\n",
        "natija = data_process(yangi_data)\n",
        "print(yangi_data, \" >> \", natija)\n",
        "\n",
        "yangi_data = 201\n",
        "natija = data_process(yangi_data)\n",
        "print(yangi_data, \" >> \", natija)"
      ],
      "metadata": {
        "colab": {
          "base_uri": "https://localhost:8080/"
        },
        "id": "q9da9CWVhV5N",
        "outputId": "9d905f8b-ddd7-470d-a745-2deb3133c06d"
      },
      "execution_count": null,
      "outputs": [
        {
          "output_type": "stream",
          "name": "stdout",
          "text": [
            "100  >>   2 ga bo'linadi \n",
            "1.5  >>   2 ga bo'linmaydi\n",
            "201  >>   2 ga bo'linadi \n"
          ]
        }
      ]
    },
    {
      "cell_type": "code",
      "source": [
        "for yd in range(200, 250):\n",
        "  natija = data_process(yd)\n",
        "  print(yd, \" >> \", natija)"
      ],
      "metadata": {
        "colab": {
          "base_uri": "https://localhost:8080/"
        },
        "id": "QiYjsHhNhZCn",
        "outputId": "ddc78ba9-2557-4c52-fb1b-527a962000a0"
      },
      "execution_count": null,
      "outputs": [
        {
          "output_type": "stream",
          "name": "stdout",
          "text": [
            "200  >>   2 ga bo'linadi \n",
            "201  >>   2 ga bo'linadi \n",
            "202  >>   2 ga bo'linadi \n",
            "203  >>   2 ga bo'linadi \n",
            "204  >>   2 ga bo'linadi \n",
            "205  >>   2 ga bo'linadi \n",
            "206  >>   2 ga bo'linadi \n",
            "207  >>   2 ga bo'linadi \n",
            "208  >>   2 ga bo'linadi \n",
            "209  >>   2 ga bo'linadi \n",
            "210  >>   2 ga bo'linadi \n",
            "211  >>   2 ga bo'linadi \n",
            "212  >>   2 ga bo'linadi \n",
            "213  >>   2 ga bo'linadi \n",
            "214  >>   2 ga bo'linadi \n",
            "215  >>   2 ga bo'linadi \n",
            "216  >>   2 ga bo'linadi \n",
            "217  >>   2 ga bo'linadi \n",
            "218  >>   2 ga bo'linadi \n",
            "219  >>   2 ga bo'linadi \n",
            "220  >>   2 ga bo'linadi \n",
            "221  >>   2 ga bo'linadi \n",
            "222  >>   2 ga bo'linadi \n",
            "223  >>   2 ga bo'linadi \n",
            "224  >>   2 ga bo'linadi \n",
            "225  >>   2 ga bo'linadi \n",
            "226  >>   2 ga bo'linadi \n",
            "227  >>   2 ga bo'linadi \n",
            "228  >>   2 ga bo'linadi \n",
            "229  >>   2 ga bo'linadi \n",
            "230  >>   2 ga bo'linadi \n",
            "231  >>   2 ga bo'linadi \n",
            "232  >>   2 ga bo'linadi \n",
            "233  >>   2 ga bo'linadi \n",
            "234  >>   2 ga bo'linadi \n",
            "235  >>   2 ga bo'linadi \n",
            "236  >>   2 ga bo'linadi \n",
            "237  >>   2 ga bo'linadi \n",
            "238  >>   2 ga bo'linadi \n",
            "239  >>   2 ga bo'linadi \n",
            "240  >>   2 ga bo'linadi \n",
            "241  >>   2 ga bo'linadi \n",
            "242  >>   2 ga bo'linadi \n",
            "243  >>   2 ga bo'linadi \n",
            "244  >>   2 ga bo'linadi \n",
            "245  >>   2 ga bo'linadi \n",
            "246  >>   2 ga bo'linadi \n",
            "247  >>   2 ga bo'linadi \n",
            "248  >>   2 ga bo'linadi \n",
            "249  >>   2 ga bo'linadi \n"
          ]
        }
      ]
    },
    {
      "cell_type": "markdown",
      "source": [
        "## Klassifikatsiyalash: berilgan son 2 ga bo'lindi yoki bo'linmaydi.\n",
        "\n",
        "Klasslar soni:\n",
        "\n",
        "1. 2 ga bo'lindi - 1\n",
        "\n",
        "2. 2 ga bo'linmaydi - 0\n"
      ],
      "metadata": {
        "id": "tH6f2UEThjjS"
      }
    },
    {
      "cell_type": "code",
      "source": [
        "X = [[i] for i in range(1, 199)]\n",
        "y = [1 if i % 2 == 0 else 0 for i in range(1, 199)]"
      ],
      "metadata": {
        "id": "yJu6NoINh-hv"
      },
      "execution_count": null,
      "outputs": []
    },
    {
      "cell_type": "code",
      "source": [
        "print(X[:5])\n",
        "print(y[:5])"
      ],
      "metadata": {
        "colab": {
          "base_uri": "https://localhost:8080/"
        },
        "id": "BU-wGpcbiHm0",
        "outputId": "feeea6df-7aaf-4516-91df-3cc43967c66a"
      },
      "execution_count": null,
      "outputs": [
        {
          "output_type": "stream",
          "name": "stdout",
          "text": [
            "[[1], [2], [3], [4], [5]]\n",
            "[0, 1, 0, 1, 0]\n"
          ]
        }
      ]
    },
    {
      "cell_type": "code",
      "source": [
        "from sklearn.linear_model import LogisticRegression\n",
        "import numpy as np\n",
        "\n",
        "\n",
        "X = [[i] for i in range(1, 199)]\n",
        "y = [1 if i % 2 == 0 else 0 for i in range(1, 199)]\n",
        "\n",
        "X_np = np.array(X).reshape(-1, 1)\n",
        "\n",
        "model = LogisticRegression()\n",
        "model.fit(X_np, y)\n",
        "\n",
        "\n",
        "def data_process(d=None):\n",
        "  d = np.array([d]).reshape(1, 1)\n",
        "  natija = model.predict(d)[0]\n",
        "  if natija == 1:\n",
        "    return \" 2 ga bo'linadi \"\n",
        "  return \" 2 ga bo'linmaydi\"\n",
        "\n",
        "yangi_data = 100\n",
        "natija = data_process(yangi_data)\n",
        "print(yangi_data, \" >> \", natija)\n",
        "\n",
        "yangi_data = 1.5\n",
        "natija = data_process(yangi_data)\n",
        "print(yangi_data, \" >> \", natija)\n",
        "\n",
        "yangi_data = 201\n",
        "natija = data_process(yangi_data)\n",
        "print(yangi_data, \" >> \", natija)"
      ],
      "metadata": {
        "colab": {
          "base_uri": "https://localhost:8080/"
        },
        "id": "TOBkiIP5iPbH",
        "outputId": "6d2b2c3e-6343-4235-bf4e-80f01b6a7acb"
      },
      "execution_count": null,
      "outputs": [
        {
          "output_type": "stream",
          "name": "stdout",
          "text": [
            "100  >>   2 ga bo'linadi \n",
            "1.5  >>   2 ga bo'linmaydi\n",
            "201  >>   2 ga bo'linadi \n"
          ]
        }
      ]
    },
    {
      "cell_type": "markdown",
      "source": [
        "# Data versiyasi 2.0"
      ],
      "metadata": {
        "id": "xk_2U4Dxi-sT"
      }
    },
    {
      "cell_type": "code",
      "source": [
        "from sklearn.linear_model import LogisticRegression\n",
        "import numpy as np\n",
        "\n",
        "\n",
        "X = [[i] for i in range(50, 199)]\n",
        "y = [1 if i % 2 == 0 else 0 for i in range(50, 199)]\n",
        "\n",
        "X_np = np.array(X).reshape(-1, 1)\n",
        "\n",
        "model = LogisticRegression()\n",
        "model.fit(X_np, y)\n",
        "\n",
        "\n",
        "def data_process(d=None):\n",
        "  d = np.array([d]).reshape(1, 1)\n",
        "  natija = model.predict(d)[0]\n",
        "  if natija == 1:\n",
        "    return \" 2 ga bo'linadi \"\n",
        "  return \" 2 ga bo'linmaydi\"\n",
        "\n",
        "yangi_data = 100\n",
        "natija = data_process(yangi_data)\n",
        "print(yangi_data, \" >> \", natija)\n",
        "\n",
        "yangi_data = 1.5\n",
        "natija = data_process(yangi_data)\n",
        "print(yangi_data, \" >> \", natija)\n",
        "\n",
        "yangi_data = 201\n",
        "natija = data_process(yangi_data)\n",
        "print(yangi_data, \" >> \", natija)"
      ],
      "metadata": {
        "colab": {
          "base_uri": "https://localhost:8080/"
        },
        "id": "ZIL2Wql9iiY_",
        "outputId": "00419e69-fcd5-4302-e15d-3cae676c2d58"
      },
      "execution_count": null,
      "outputs": [
        {
          "output_type": "stream",
          "name": "stdout",
          "text": [
            "100  >>   2 ga bo'linadi \n",
            "1.5  >>   2 ga bo'linadi \n",
            "201  >>   2 ga bo'linadi \n"
          ]
        }
      ]
    },
    {
      "cell_type": "markdown",
      "source": [
        "# Data versisyasi 3.0"
      ],
      "metadata": {
        "id": "u0Kx6Ij8jQ_G"
      }
    },
    {
      "cell_type": "code",
      "source": [
        "from sklearn.linear_model import LogisticRegression\n",
        "import numpy as np\n",
        "\n",
        "\n",
        "X = [[i] for i in range(50, 55)]\n",
        "y = [1 if i % 2 == 0 else 0 for i in range(50, 55)]\n",
        "\n",
        "X_np = np.array(X).reshape(-1, 1)\n",
        "\n",
        "model = LogisticRegression()\n",
        "model.fit(X_np, y)\n",
        "\n",
        "\n",
        "def data_process(d=None):\n",
        "  d = np.array([d]).reshape(1, 1)\n",
        "  natija = model.predict(d)[0]\n",
        "  if natija == 1:\n",
        "    return \" 2 ga bo'linadi \"\n",
        "  return \" 2 ga bo'linmaydi\"\n",
        "\n",
        "yangi_data = 100\n",
        "natija = data_process(yangi_data)\n",
        "print(yangi_data, \" >> \", natija)\n",
        "\n",
        "yangi_data = 1.5\n",
        "natija = data_process(yangi_data)\n",
        "print(yangi_data, \" >> \", natija)\n",
        "\n",
        "yangi_data = 201\n",
        "natija = data_process(yangi_data)\n",
        "print(yangi_data, \" >> \", natija)"
      ],
      "metadata": {
        "colab": {
          "base_uri": "https://localhost:8080/"
        },
        "id": "KyeCj1PajImz",
        "outputId": "cf03e624-4d8b-4620-b534-57a41e09b7f8"
      },
      "execution_count": null,
      "outputs": [
        {
          "output_type": "stream",
          "name": "stdout",
          "text": [
            "100  >>   2 ga bo'linadi \n",
            "1.5  >>   2 ga bo'linadi \n",
            "201  >>   2 ga bo'linadi \n"
          ]
        }
      ]
    },
    {
      "cell_type": "markdown",
      "source": [
        "# Data versiyasi 4.0\n"
      ],
      "metadata": {
        "id": "DYxPuq2Kjs6o"
      }
    },
    {
      "cell_type": "code",
      "source": [
        "from sklearn.linear_model import LogisticRegression\n",
        "import numpy as np\n",
        "\n",
        "X = [[i] for i in range(2, 10000)]\n",
        "y = [1 if i % 2 == 0 else 0 for i in range(2, 10000)]\n",
        "\n",
        "X_np = np.array(X).reshape(-1, 1)\n",
        "\n",
        "model = LogisticRegression()\n",
        "model.fit(X_np, y)\n",
        "\n",
        "\n",
        "def data_process(d=None):\n",
        "  d = np.array([d]).reshape(1, 1)\n",
        "  natija = model.predict(d)[0]\n",
        "  if natija == 1:\n",
        "    return \" 2 ga bo'linadi \"\n",
        "  return \" 2 ga bo'linmaydi\"\n",
        "\n",
        "yangi_data = 100\n",
        "natija = data_process(yangi_data)\n",
        "print(yangi_data, \" >> \", natija)\n",
        "\n",
        "yangi_data = 1.5\n",
        "natija = data_process(yangi_data)\n",
        "print(yangi_data, \" >> \", natija)\n",
        "\n",
        "yangi_data = 201\n",
        "natija = data_process(yangi_data)\n",
        "print(yangi_data, \" >> \", natija)\n",
        "\n",
        "yangi_data = 2\n",
        "natija = data_process(yangi_data)\n",
        "print(yangi_data, \" >> \", natija)"
      ],
      "metadata": {
        "colab": {
          "base_uri": "https://localhost:8080/"
        },
        "id": "5ccLSHSLjbwP",
        "outputId": "5dd017c9-ea1a-4284-da21-babebee205f6"
      },
      "execution_count": null,
      "outputs": [
        {
          "output_type": "stream",
          "name": "stdout",
          "text": [
            "100  >>   2 ga bo'linmaydi\n",
            "1.5  >>   2 ga bo'linmaydi\n",
            "201  >>   2 ga bo'linmaydi\n",
            "2  >>   2 ga bo'linmaydi\n"
          ]
        }
      ]
    },
    {
      "cell_type": "markdown",
      "source": [
        "# Data versiyasi 5.0"
      ],
      "metadata": {
        "id": "-9ArhrkOkSX3"
      }
    },
    {
      "cell_type": "code",
      "source": [
        "from sklearn.linear_model import LogisticRegression\n",
        "import numpy as np\n",
        "\n",
        "\n",
        "X = [1, 2, 3, 4, 5]\n",
        "y = [0, 1, 0, 1, 0]\n",
        "\n",
        "X_np = np.array(X).reshape(-1, 1)\n",
        "\n",
        "model = LogisticRegression()\n",
        "model.fit(X_np, y)\n",
        "\n",
        "\n",
        "def data_process(d=None):\n",
        "  d = np.array([d]).reshape(1, 1)\n",
        "  natija = model.predict(d)[0]\n",
        "  if natija == 1:\n",
        "    return \" 2 ga bo'linadi \"\n",
        "  return \" 2 ga bo'linmaydi\"\n",
        "\n",
        "yangi_data = 100\n",
        "natija = data_process(yangi_data)\n",
        "print(yangi_data, \" >> \", natija)\n",
        "\n",
        "yangi_data = 1.5\n",
        "natija = data_process(yangi_data)\n",
        "print(yangi_data, \" >> \", natija)\n",
        "\n",
        "yangi_data = 201\n",
        "natija = data_process(yangi_data)\n",
        "print(yangi_data, \" >> \", natija)"
      ],
      "metadata": {
        "colab": {
          "base_uri": "https://localhost:8080/"
        },
        "id": "DG-GEi8fj93k",
        "outputId": "82818d49-7950-455e-a2f5-2d051d138d3f"
      },
      "execution_count": null,
      "outputs": [
        {
          "output_type": "stream",
          "name": "stdout",
          "text": [
            "100  >>   2 ga bo'linmaydi\n",
            "1.5  >>   2 ga bo'linmaydi\n",
            "201  >>   2 ga bo'linmaydi\n"
          ]
        }
      ]
    },
    {
      "cell_type": "markdown",
      "source": [
        "# O'qishga qabul qilingan yoki qilinmagan\n",
        "\n",
        "Klaslar:\n",
        "- Qabul qilingan - 1\n",
        "- Qabul qilinmagan - 0"
      ],
      "metadata": {
        "id": "wLxO8mzdlPJ8"
      }
    },
    {
      "cell_type": "code",
      "source": [
        "from sklearn.linear_model import LogisticRegression\n",
        "import numpy as np\n",
        "\n",
        "X = [[i] for i in range(1, 101)]\n",
        "y = [1 if i >= 56 else 0 for i in range(1, 101)]\n",
        "print(X)\n",
        "print(y)"
      ],
      "metadata": {
        "colab": {
          "base_uri": "https://localhost:8080/"
        },
        "id": "gySMetZ6kuhi",
        "outputId": "df599041-79ac-45ba-c8de-6065173ce9c5"
      },
      "execution_count": null,
      "outputs": [
        {
          "output_type": "stream",
          "name": "stdout",
          "text": [
            "[[1], [2], [3], [4], [5], [6], [7], [8], [9], [10], [11], [12], [13], [14], [15], [16], [17], [18], [19], [20], [21], [22], [23], [24], [25], [26], [27], [28], [29], [30], [31], [32], [33], [34], [35], [36], [37], [38], [39], [40], [41], [42], [43], [44], [45], [46], [47], [48], [49], [50], [51], [52], [53], [54], [55], [56], [57], [58], [59], [60], [61], [62], [63], [64], [65], [66], [67], [68], [69], [70], [71], [72], [73], [74], [75], [76], [77], [78], [79], [80], [81], [82], [83], [84], [85], [86], [87], [88], [89], [90], [91], [92], [93], [94], [95], [96], [97], [98], [99], [100]]\n",
            "[0, 0, 0, 0, 0, 0, 0, 0, 0, 0, 0, 0, 0, 0, 0, 0, 0, 0, 0, 0, 0, 0, 0, 0, 0, 0, 0, 0, 0, 0, 0, 0, 0, 0, 0, 0, 0, 0, 0, 0, 0, 0, 0, 0, 0, 0, 0, 0, 0, 0, 0, 0, 0, 0, 0, 1, 1, 1, 1, 1, 1, 1, 1, 1, 1, 1, 1, 1, 1, 1, 1, 1, 1, 1, 1, 1, 1, 1, 1, 1, 1, 1, 1, 1, 1, 1, 1, 1, 1, 1, 1, 1, 1, 1, 1, 1, 1, 1, 1, 1]\n"
          ]
        }
      ]
    },
    {
      "cell_type": "code",
      "source": [
        "X_np = np.array(X).reshape(-1, 1)\n",
        "\n",
        "model = LogisticRegression()\n",
        "model.fit(X_np, y)\n",
        "\n",
        "\n",
        "def data_process(d=None):\n",
        "  d = np.array([d]).reshape(1, 1)\n",
        "  natija = model.predict(d)[0]\n",
        "  if natija == 1:\n",
        "    return \"Qabul qilindi\"\n",
        "  return \"Qabul qilinmadi\"\n",
        "\n",
        "yangi_data = 10\n",
        "natija = data_process(yangi_data)\n",
        "print(yangi_data, \" >> \", natija)\n",
        "\n",
        "yangi_data = 40.5\n",
        "natija = data_process(yangi_data)\n",
        "print(yangi_data, \" >> \", natija)\n",
        "\n",
        "yangi_data = 88.8\n",
        "natija = data_process(yangi_data)\n",
        "print(yangi_data, \" >> \", natija)\n",
        "\n",
        "yangi_data = 56\n",
        "natija = data_process(yangi_data)\n",
        "print(yangi_data, \" >> \", natija)\n",
        "\n",
        "yangi_data = 56.1\n",
        "natija = data_process(yangi_data)\n",
        "print(yangi_data, \" >> \", natija)\n",
        "\n",
        "yangi_data = 55\n",
        "natija = data_process(yangi_data)\n",
        "print(yangi_data, \" >> \", natija)\n",
        "\n",
        "yangi_data = 55.1\n",
        "natija = data_process(yangi_data)\n",
        "print(yangi_data, \" >> \", natija)\n",
        "\n",
        "yangi_data = 55.5\n",
        "natija = data_process(yangi_data)\n",
        "print(yangi_data, \" >> \", natija)\n",
        "\n",
        "print(\"------------------------------------\")\n",
        "yangi_data = 55.6\n",
        "natija = data_process(yangi_data)\n",
        "print(yangi_data, \" >> \", natija)\n",
        "\n",
        "yangi_data = 55.7\n",
        "natija = data_process(yangi_data)\n",
        "print(yangi_data, \" >> \", natija)\n",
        "\n",
        "yangi_data = 55.8\n",
        "natija = data_process(yangi_data)\n",
        "print(yangi_data, \" >> \", natija)\n",
        "\n",
        "yangi_data = 55.99\n",
        "natija = data_process(yangi_data)\n",
        "print(yangi_data, \" >> \", natija)"
      ],
      "metadata": {
        "colab": {
          "base_uri": "https://localhost:8080/"
        },
        "id": "7cgVMztCmC1v",
        "outputId": "dd6bdbbd-57ba-4c5c-e454-4af73e63e698"
      },
      "execution_count": null,
      "outputs": [
        {
          "output_type": "stream",
          "name": "stdout",
          "text": [
            "10  >>  Qabul qilinmadi\n",
            "40.5  >>  Qabul qilinmadi\n",
            "88.8  >>  Qabul qilindi\n",
            "56  >>  Qabul qilindi\n",
            "56.1  >>  Qabul qilindi\n",
            "55  >>  Qabul qilinmadi\n",
            "55.1  >>  Qabul qilinmadi\n",
            "55.5  >>  Qabul qilinmadi\n",
            "------------------------------------\n",
            "55.6  >>  Qabul qilindi\n",
            "55.7  >>  Qabul qilindi\n",
            "55.8  >>  Qabul qilindi\n",
            "55.99  >>  Qabul qilindi\n"
          ]
        }
      ]
    },
    {
      "cell_type": "markdown",
      "source": [
        "Biz hozir algoritmning nozik joylarini aniqladik. Yani, 55.6, 55.7. 55.8 sonlari (ballari) aslida o'qishga qabul qinmagan bo'lishligi kerak edi.\n",
        "\n",
        "Endi, bu muammoni hal qilish uchun datani ko'paytiramiz.\n",
        "Ko'paytirganda ham, faqat shu muammoga tegishlisini ko'paytiramiz."
      ],
      "metadata": {
        "id": "28878xMSn1Ic"
      }
    },
    {
      "cell_type": "code",
      "source": [
        "from sklearn.linear_model import LogisticRegression\n",
        "import numpy as np\n",
        "\n",
        "X = [[i] for i in range(1, 101)]\n",
        "y = [1 if i >= 56 else 0 for i in range(1, 101)]\n",
        "\n",
        "X_yana = [[x] for x in [55.6, 55.7, 55.8, 55.9, 56.1, 56.2, 56.3, 56.4]]\n",
        "y_yana = [   0,    0,    0,    0,    1,    1,    1,    1]\n",
        "\n",
        "X = X + X_yana\n",
        "y = y + y_yana\n",
        "\n",
        "print(X)\n",
        "print(y)"
      ],
      "metadata": {
        "colab": {
          "base_uri": "https://localhost:8080/"
        },
        "id": "FE21liPemeL1",
        "outputId": "47b1e689-1e55-4629-fac1-049eb7ea3909"
      },
      "execution_count": null,
      "outputs": [
        {
          "output_type": "stream",
          "name": "stdout",
          "text": [
            "[[1], [2], [3], [4], [5], [6], [7], [8], [9], [10], [11], [12], [13], [14], [15], [16], [17], [18], [19], [20], [21], [22], [23], [24], [25], [26], [27], [28], [29], [30], [31], [32], [33], [34], [35], [36], [37], [38], [39], [40], [41], [42], [43], [44], [45], [46], [47], [48], [49], [50], [51], [52], [53], [54], [55], [56], [57], [58], [59], [60], [61], [62], [63], [64], [65], [66], [67], [68], [69], [70], [71], [72], [73], [74], [75], [76], [77], [78], [79], [80], [81], [82], [83], [84], [85], [86], [87], [88], [89], [90], [91], [92], [93], [94], [95], [96], [97], [98], [99], [100], [55.6], [55.7], [55.8], [55.9], [56.1], [56.2], [56.3], [56.4]]\n",
            "[0, 0, 0, 0, 0, 0, 0, 0, 0, 0, 0, 0, 0, 0, 0, 0, 0, 0, 0, 0, 0, 0, 0, 0, 0, 0, 0, 0, 0, 0, 0, 0, 0, 0, 0, 0, 0, 0, 0, 0, 0, 0, 0, 0, 0, 0, 0, 0, 0, 0, 0, 0, 0, 0, 0, 1, 1, 1, 1, 1, 1, 1, 1, 1, 1, 1, 1, 1, 1, 1, 1, 1, 1, 1, 1, 1, 1, 1, 1, 1, 1, 1, 1, 1, 1, 1, 1, 1, 1, 1, 1, 1, 1, 1, 1, 1, 1, 1, 1, 1, 0, 0, 0, 0, 1, 1, 1, 1]\n"
          ]
        }
      ]
    },
    {
      "cell_type": "code",
      "source": [
        "X_np = np.array(X).reshape(-1, 1)\n",
        "\n",
        "model = LogisticRegression()\n",
        "model.fit(X_np, y)\n",
        "\n",
        "\n",
        "def data_process(d=None):\n",
        "  d = np.array([d]).reshape(1, 1)\n",
        "  natija = model.predict(d)[0]\n",
        "  if natija == 1:\n",
        "    return \"Qabul qilindi\"\n",
        "  return \"Qabul qilinmadi\"\n",
        "\n",
        "yangi_data = 10\n",
        "natija = data_process(yangi_data)\n",
        "print(yangi_data, \" >> \", natija)\n",
        "\n",
        "yangi_data = 40.5\n",
        "natija = data_process(yangi_data)\n",
        "print(yangi_data, \" >> \", natija)\n",
        "\n",
        "yangi_data = 88.8\n",
        "natija = data_process(yangi_data)\n",
        "print(yangi_data, \" >> \", natija)\n",
        "\n",
        "yangi_data = 56\n",
        "natija = data_process(yangi_data)\n",
        "print(yangi_data, \" >> \", natija)\n",
        "\n",
        "yangi_data = 56.1\n",
        "natija = data_process(yangi_data)\n",
        "print(yangi_data, \" >> \", natija)\n",
        "\n",
        "yangi_data = 55\n",
        "natija = data_process(yangi_data)\n",
        "print(yangi_data, \" >> \", natija)\n",
        "\n",
        "yangi_data = 55.1\n",
        "natija = data_process(yangi_data)\n",
        "print(yangi_data, \" >> \", natija)\n",
        "\n",
        "yangi_data = 55.5\n",
        "natija = data_process(yangi_data)\n",
        "print(yangi_data, \" >> \", natija)\n",
        "\n",
        "print(\"------------------------------------\")\n",
        "yangi_data = 55.6\n",
        "natija = data_process(yangi_data)\n",
        "print(yangi_data, \" >> \", natija)\n",
        "\n",
        "yangi_data = 55.7\n",
        "natija = data_process(yangi_data)\n",
        "print(yangi_data, \" >> \", natija)\n",
        "\n",
        "yangi_data = 55.8\n",
        "natija = data_process(yangi_data)\n",
        "print(yangi_data, \" >> \", natija)\n",
        "\n",
        "yangi_data = 55.99\n",
        "natija = data_process(yangi_data)\n",
        "print(yangi_data, \" >> \", natija)"
      ],
      "metadata": {
        "colab": {
          "base_uri": "https://localhost:8080/"
        },
        "id": "iSbt-EpfpGAM",
        "outputId": "2951a3ef-6b5f-48d4-e80e-28508e4ecf6d"
      },
      "execution_count": null,
      "outputs": [
        {
          "output_type": "stream",
          "name": "stdout",
          "text": [
            "10  >>  Qabul qilinmadi\n",
            "40.5  >>  Qabul qilinmadi\n",
            "88.8  >>  Qabul qilindi\n",
            "56  >>  Qabul qilindi\n",
            "56.1  >>  Qabul qilindi\n",
            "55  >>  Qabul qilinmadi\n",
            "55.1  >>  Qabul qilinmadi\n",
            "55.5  >>  Qabul qilinmadi\n",
            "------------------------------------\n",
            "55.6  >>  Qabul qilinmadi\n",
            "55.7  >>  Qabul qilinmadi\n",
            "55.8  >>  Qabul qilinmadi\n",
            "55.99  >>  Qabul qilindi\n"
          ]
        }
      ]
    },
    {
      "cell_type": "markdown",
      "source": [
        "## Logistic regression bazi parameterlarini ko'ramiz"
      ],
      "metadata": {
        "id": "HE1eY2QcrWyI"
      }
    },
    {
      "cell_type": "code",
      "source": [
        "print(model.classes_)"
      ],
      "metadata": {
        "colab": {
          "base_uri": "https://localhost:8080/"
        },
        "id": "BLmtM0lIpc8O",
        "outputId": "534547f5-f73b-4571-dc68-b1a03350f252"
      },
      "execution_count": null,
      "outputs": [
        {
          "output_type": "stream",
          "name": "stdout",
          "text": [
            "[0 1]\n"
          ]
        }
      ]
    },
    {
      "cell_type": "code",
      "source": [
        "print(model.predict_proba(np.array([56]).reshape(-1, 1))*100)"
      ],
      "metadata": {
        "colab": {
          "base_uri": "https://localhost:8080/"
        },
        "id": "iPU86N0RreFa",
        "outputId": "b881e071-73f9-46d8-c571-cb577cceef50"
      },
      "execution_count": null,
      "outputs": [
        {
          "output_type": "stream",
          "name": "stdout",
          "text": [
            "[[45.20105302 54.79894698]]\n"
          ]
        }
      ]
    },
    {
      "cell_type": "code",
      "source": [
        "print(model.predict_proba(np.array([10]).reshape(-1, 1))*100)"
      ],
      "metadata": {
        "colab": {
          "base_uri": "https://localhost:8080/"
        },
        "id": "zwEXxfCVsbHk",
        "outputId": "0ddfc157-6c1f-4d19-f053-fcc61086f9f6"
      },
      "execution_count": null,
      "outputs": [
        {
          "output_type": "stream",
          "name": "stdout",
          "text": [
            "[[1.00000000e+02 4.94871574e-28]]\n"
          ]
        }
      ]
    },
    {
      "cell_type": "code",
      "source": [
        "print(model.predict_proba(np.array([90]).reshape(-1, 1))*100)"
      ],
      "metadata": {
        "colab": {
          "base_uri": "https://localhost:8080/"
        },
        "id": "A2BUwakqug4L",
        "outputId": "8ff2f35f-5fde-4af5-e7b8-a77d9ac4b42c"
      },
      "execution_count": null,
      "outputs": [
        {
          "output_type": "stream",
          "name": "stdout",
          "text": [
            "[[  0. 100.]]\n"
          ]
        }
      ]
    },
    {
      "cell_type": "code",
      "source": [
        "print(model.predict_proba(np.array([55]).reshape(-1, 1))*100)"
      ],
      "metadata": {
        "colab": {
          "base_uri": "https://localhost:8080/"
        },
        "id": "kaXsHcErux_f",
        "outputId": "af6289e3-3e3c-4019-cfee-4fe8c64cd6dc"
      },
      "execution_count": null,
      "outputs": [
        {
          "output_type": "stream",
          "name": "stdout",
          "text": [
            "[[78.22041419 21.77958581]]\n"
          ]
        }
      ]
    },
    {
      "cell_type": "code",
      "source": [
        "print(model.predict_proba(np.array([55.5]).reshape(-1, 1))*100)"
      ],
      "metadata": {
        "colab": {
          "base_uri": "https://localhost:8080/"
        },
        "id": "Wd23jMCWu-Kk",
        "outputId": "d9bbe9e9-be7d-4f49-f412-98e47079c1ab"
      },
      "execution_count": null,
      "outputs": [
        {
          "output_type": "stream",
          "name": "stdout",
          "text": [
            "[[63.25108278 36.74891722]]\n"
          ]
        }
      ]
    },
    {
      "cell_type": "code",
      "source": [
        "print(model.predict_proba(np.array([55.9]).reshape(-1, 1))*100)"
      ],
      "metadata": {
        "colab": {
          "base_uri": "https://localhost:8080/"
        },
        "id": "mDnnqVttvEZR",
        "outputId": "152f141e-250a-460c-f6fa-633eb6be2f1e"
      },
      "execution_count": null,
      "outputs": [
        {
          "output_type": "stream",
          "name": "stdout",
          "text": [
            "[[48.86420096 51.13579904]]\n"
          ]
        }
      ]
    },
    {
      "cell_type": "code",
      "source": [
        "print(model.predict_proba(np.array([55.88]).reshape(-1, 1))*100)"
      ],
      "metadata": {
        "colab": {
          "base_uri": "https://localhost:8080/"
        },
        "id": "T4WEwFwOzXsY",
        "outputId": "43cd9310-9182-4126-f688-0e1bdec28993"
      },
      "execution_count": null,
      "outputs": [
        {
          "output_type": "stream",
          "name": "stdout",
          "text": [
            "[[49.59956817 50.40043183]]\n"
          ]
        }
      ]
    },
    {
      "cell_type": "markdown",
      "source": [
        "## Vizualizatsiya"
      ],
      "metadata": {
        "id": "lb_oWiWhv7vj"
      }
    },
    {
      "cell_type": "code",
      "source": [
        "import matplotlib.pyplot as plt\n",
        "\n",
        "X = [[i] for i in range(1, 101)]\n",
        "y = [1 if i >= 56 else 0 for i in range(1, 101)]\n",
        "X_np = np.array(X).reshape(-1, 1)\n",
        "\n",
        "y_predicted = model.predict(X_np)\n",
        "\n",
        "plt.scatter(X, y, color='blue', label=\"Orginal\")\n",
        "plt.xlabel(\"Bal\")\n",
        "plt.ylabel(\"Belgi (label)\")\n",
        "\n",
        "plt.plot(X, y_predicted, color='red', label=\"Bashorat\")\n",
        "\n",
        "plt.show()"
      ],
      "metadata": {
        "colab": {
          "base_uri": "https://localhost:8080/",
          "height": 449
        },
        "id": "MM15fXARvPMq",
        "outputId": "6cd8462f-6db9-4a16-ed2e-caed4404e755"
      },
      "execution_count": null,
      "outputs": [
        {
          "output_type": "display_data",
          "data": {
            "text/plain": [
              "<Figure size 640x480 with 1 Axes>"
            ],
            "image/png": "[encoded data removed]"
          },
          "metadata": {}
        }
      ]
    },
    {
      "cell_type": "markdown",
      "source": [
        "### yangi datalar uchun tasvirlaymiz"
      ],
      "metadata": {
        "id": "VnHSJLeGxnko"
      }
    },
    {
      "cell_type": "code",
      "source": [
        "import matplotlib.pyplot as plt\n",
        "\n",
        "X_yangi = [[i+1000] for i in range(1, 101)]\n",
        "# y_yangi = [1 if (i + 0.99) >= 56 else 0 for i in range(1, 101)]\n",
        "X_np = np.array(X_yangi).reshape(-1, 1)\n",
        "\n",
        "y_predicted = model.predict(X_np)\n",
        "\n",
        "# plt.scatter(X_yangi, y_yangi, color='blue', label=\"Orginal\")\n",
        "\n",
        "plt.xlabel(\"Bal\")\n",
        "plt.ylabel(\"Belgi (label)\")\n",
        "\n",
        "plt.plot(X_yangi, y_predicted, color='red', label=\"Bashorat\")\n",
        "\n",
        "plt.show()"
      ],
      "metadata": {
        "colab": {
          "base_uri": "https://localhost:8080/",
          "height": 449
        },
        "id": "_NMdxZfIwWVj",
        "outputId": "5ec1c81e-ed2c-4872-a0d8-dd4586060e68"
      },
      "execution_count": null,
      "outputs": [
        {
          "output_type": "display_data",
          "data": {
            "text/plain": [
              "<Figure size 640x480 with 1 Axes>"
            ],
            "image/png": "[encoded data removed]"
          },
          "metadata": {}
        }
      ]
    },
    {
      "cell_type": "code",
      "source": [],
      "metadata": {
        "id": "qL9tFDwsx93R"
      },
      "execution_count": null,
      "outputs": []
    }
  ]
}